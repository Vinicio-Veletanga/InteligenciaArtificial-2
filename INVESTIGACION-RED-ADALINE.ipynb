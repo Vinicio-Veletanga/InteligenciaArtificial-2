{
 "cells": [
  {
   "cell_type": "markdown",
   "metadata": {},
   "source": [
    "## Estudiante: Vinicio Veletanga\n",
    "# RED NEURONAL ADALINE\n",
    "![](RNA2.png)"
   ]
  },
  {
   "cell_type": "markdown",
   "metadata": {},
   "source": [
    "## Adaline se caracteristisa por que utiliza directamente la salida de la red teniendo en cuenta en minimizar el error.Donde tiene como objetivo una red tal que la salida sea igual a la salida obtenida.\n",
    "\n"
   ]
  },
  {
   "cell_type": "markdown",
   "metadata": {},
   "source": [
    "# REGLA DELTA O REGLA APRENDIZAJE"
   ]
  },
  {
   "cell_type": "markdown",
   "metadata": {},
   "source": [
    "## Esta regla busca realizar un conjunto de pesos que nos permita minimizar la funcion de error.\n",
    "![](regladelta.png)\n",
    "## Realizando procesos interactivos donde se van modificando los pesos. Donde cada cambio en cada peso proporcional a la derivada del error. El entrenamiento se realiza presentando repetidamente una serie de parejas de entradasy salidas.\n",
    "\n",
    "# Regla de Widrow-Hoff\n",
    " ![](ecuacion.png)\n",
    " ## siendo η la constante de aprendizaje, ai la salida de la unidad i, t la salida deseada y por último x la salida de la unidad Adaline. No obstante la variante de esta regla más utilizada considera el valor de la suma ponderada S en vez del valor de la salida de la unidad Adaline."
   ]
  },
  {
   "cell_type": "markdown",
   "metadata": {},
   "source": [
    "## Parámetros iniciales de la red neuronal artificial\n",
    "$\\vec{W} = [0.84, 0.394 , 0.783]$ <br /><br />\n",
    "$\\vec{X} = \n",
    "    \\begin{bmatrix}\n",
    "        \\textbf{x1} & \\textbf{x2} & \\textbf{x3} & \\delta \\\\\n",
    "        0 & 0 & 1 & 1 \\\\\n",
    "        0 & 1 & 0 & 2 \\\\\n",
    "        0 & 1 & 1 & 3 \\\\\n",
    "        1 & 0 & 0 & 4  \\\\\n",
    "        1 & 0 & 0 & 5 \\\\\n",
    "        1 & 1 & 0 & 6 \\\\\n",
    "        1 & 1 & 1 & 7\n",
    "    \\end{bmatrix}\n",
    "$ <br /><br /> \n",
    "$\\alpha = 0.3 $ <br /><br />\n",
    "**Función de  Widrow-Hoff** "
   ]
  },
  {
   "cell_type": "code",
   "execution_count": 44,
   "metadata": {},
   "outputs": [],
   "source": [
    "import matplotlib.pyplot as plt\n",
    "import numpy as np "
   ]
  },
  {
   "cell_type": "code",
   "execution_count": 37,
   "metadata": {},
   "outputs": [
    {
     "name": "stdout",
     "output_type": "stream",
     "text": [
      "PASO:  1\n",
      "\n",
      "\n",
      "Patrón  1  = ( 0 , 0 , 1 )\n",
      "W1: 0.84 , x1: 0 , W2: 0.394 ,X2: 0 , W3: 0.783 ,X3: 1\n",
      "Esperado:  1\n",
      "Obtenido:  0.783\n",
      "\u001b[4;35m Valor de Error :  0.21699999999999997 \u001b[0;m\n",
      "SE CALCULA LOS NUEVOS PESOS\n",
      "Peso W1:  0.84 Peso W2:  0.394 Peso W3:  0.8481000000000001\n",
      "\n",
      "\n",
      "Patrón  2  = ( 0 , 1 , 0 )\n",
      "W1: 0.84 , x1: 0 , W2: 0.394 ,X2: 1 , W3: 0.8481000000000001 ,X3: 0\n",
      "Esperado:  2\n",
      "Obtenido:  0.394\n",
      "\u001b[4;35m Valor de Error :  1.6059999999999999 \u001b[0;m\n",
      "SE CALCULA LOS NUEVOS PESOS\n",
      "Peso W1:  0.84 Peso W2:  0.8757999999999999 Peso W3:  0.8481000000000001\n",
      "\n",
      "\n",
      "Patrón  3  = ( 0 , 1 , 1 )\n",
      "W1: 0.84 , x1: 0 , W2: 0.8757999999999999 ,X2: 1 , W3: 0.8481000000000001 ,X3: 1\n",
      "Esperado:  3\n",
      "Obtenido:  1.7239\n",
      "\u001b[4;35m Valor de Error :  1.2761 \u001b[0;m\n",
      "SE CALCULA LOS NUEVOS PESOS\n",
      "Peso W1:  0.84 Peso W2:  1.25863 Peso W3:  1.23093\n",
      "\n",
      "\n",
      "Patrón  4  = ( 1 , 0 , 0 )\n",
      "W1: 0.84 , x1: 1 , W2: 1.25863 ,X2: 0 , W3: 1.23093 ,X3: 0\n",
      "Esperado:  4\n",
      "Obtenido:  0.84\n",
      "\u001b[4;35m Valor de Error :  3.16 \u001b[0;m\n",
      "SE CALCULA LOS NUEVOS PESOS\n",
      "Peso W1:  1.7879999999999998 Peso W2:  1.25863 Peso W3:  1.23093\n",
      "\n",
      "\n",
      "Patrón  5  = ( 1 , 0 , 1 )\n",
      "W1: 1.7879999999999998 , x1: 1 , W2: 1.25863 ,X2: 0 , W3: 1.23093 ,X3: 1\n",
      "Esperado:  5\n",
      "Obtenido:  3.01893\n",
      "\u001b[4;35m Valor de Error :  1.9810699999999999 \u001b[0;m\n",
      "SE CALCULA LOS NUEVOS PESOS\n",
      "Peso W1:  2.3823209999999997 Peso W2:  1.25863 Peso W3:  1.8252510000000002\n",
      "\n",
      "\n",
      "Patrón  6  = ( 1 , 1 , 0 )\n",
      "W1: 2.3823209999999997 , x1: 1 , W2: 1.25863 ,X2: 1 , W3: 1.8252510000000002 ,X3: 0\n",
      "Esperado:  6\n",
      "Obtenido:  3.6409509999999994\n",
      "\u001b[4;35m Valor de Error :  2.3590490000000006 \u001b[0;m\n",
      "SE CALCULA LOS NUEVOS PESOS\n",
      "Peso W1:  3.0900356999999996 Peso W2:  1.9663447 Peso W3:  1.8252510000000002\n",
      "\n",
      "\n",
      "Patrón  7  = ( 1 , 1 , 1 )\n",
      "W1: 3.0900356999999996 , x1: 1 , W2: 1.9663447 ,X2: 1 , W3: 1.8252510000000002 ,X3: 1\n",
      "Esperado:  7\n",
      "Obtenido:  6.8816314\n",
      "\u001b[4;35m Valor de Error :  0.11836860000000016 \u001b[0;m\n",
      "SE CALCULA LOS NUEVOS PESOS\n",
      "Peso W1:  3.1255462799999996 Peso W2:  2.00185528 Peso W3:  1.8607615800000001\n"
     ]
    }
   ],
   "source": [
    "# PESOS\n",
    "w=np.array([0.84,0.394,0.783])\n",
    "alpha=0.3\n",
    "X=np.array([[0, 0, 1], [0, 1, 0], [0, 1, 1], [1, 0, 0], [1, 0, 1], [1, 1, 0],[1, 1, 1]])\n",
    "r=[1, 2, 3, 4, 5, 6, 7]\n",
    "lon=len(r) \n",
    "res=0\n",
    "con=True\n",
    "cont=1\n",
    "errores=[]\n",
    "xp1=[0, 0, 1]\n",
    "xp2=[0, 1, 0]\n",
    "xp3=[0, 1, 1]\n",
    "xp4=[1, 0, 0]\n",
    "\n",
    "xp5=[1, 0, 1]\n",
    "xp6=[1, 1, 0]\n",
    "xp7=[1, 1, 1]\n",
    "print(\"PASO: \",cont)\n",
    "for i in range(lon):\n",
    "        print(\"\\n\")\n",
    "        print(\"Patrón \",(i+1) , \" = (\", X[i][0],\",\",X[i][1],\",\",X[i][2],\")\")\n",
    "        \n",
    "        val=X[i][0]*w[0]+X[i][1]*w[1]+X[i][2]*w[2]\n",
    "        print(\"W1:\",w[0],\", x1:\",X[i][0],\", W2:\",w[1],\",X2:\",X[i][1],\", W3:\",w[2],\",X3:\",X[i][2])\n",
    "        print(\"Esperado: \",r[i])\n",
    "        print(\"Obtenido: \",val)\n",
    "        ER= r[i]-val\n",
    "        print(\"\\033[4;35m\",\"Valor de Error : \",ER,'\\033[0;m')\n",
    "        print(\"SE CALCULA LOS NUEVOS PESOS\")\n",
    "        \n",
    "        w[0] = w[0]+(alpha*ER)*X[i][0]\n",
    "        w[1] = w[1]+(alpha*ER)*X[i][1]\n",
    "        w[2] = w[2]+(alpha*ER)*X[i][2]\n",
    "        print(\"Peso W1: \",w[0],\"Peso W2: \",w[1],\"Peso W3: \",w[2])\n",
    "        \n",
    "        \n",
    "    "
   ]
  },
  {
   "cell_type": "markdown",
   "metadata": {},
   "source": [
    "# REFERENCIAS:\n",
    "#### Xabier Basogain Olabe,2019.Redes Neuronales Artificiales y sus aplicaciones.Escuela Superior de Ingenieria de Bilbao.\n",
    "\n",
    "https://fdocuments.ec/document/redes-neuronales-artificiales-y-sus-aplicaciones-computacion-tradicional-y.html"
   ]
  },
  {
   "cell_type": "code",
   "execution_count": null,
   "metadata": {},
   "outputs": [],
   "source": []
  }
 ],
 "metadata": {
  "kernelspec": {
   "display_name": "Python 3",
   "language": "python",
   "name": "python3"
  },
  "language_info": {
   "codemirror_mode": {
    "name": "ipython",
    "version": 3
   },
   "file_extension": ".py",
   "mimetype": "text/x-python",
   "name": "python",
   "nbconvert_exporter": "python",
   "pygments_lexer": "ipython3",
   "version": "3.7.6"
  }
 },
 "nbformat": 4,
 "nbformat_minor": 4
}
