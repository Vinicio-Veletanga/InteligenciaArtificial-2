{
 "cells": [
  {
   "cell_type": "code",
   "execution_count": 4,
   "metadata": {
    "scrolled": false
   },
   "outputs": [
    {
     "name": "stdout",
     "output_type": "stream",
     "text": [
      "--------------------------------------------\n",
      "PASO:  1\n",
      "X1:  [-0.34514094  0.        ]\n",
      "X2:  [ 0.         -0.09032058]\n"
     ]
    },
    {
     "data": {
      "image/png": "[encoded data removed]",
      "text/plain": [
       "<Figure size 432x288 with 1 Axes>"
      ]
     },
     "metadata": {
      "needs_background": "light"
     },
     "output_type": "display_data"
    },
    {
     "name": "stdout",
     "output_type": "stream",
     "text": [
      "Patrón  1  = ( -3.91294592 , 0.01533953 )\n",
      "-0.4157785291620945\n"
     ]
    },
    {
     "ename": "NameError",
     "evalue": "name 'r' is not defined",
     "output_type": "error",
     "traceback": [
      "\u001b[1;31m---------------------------------------------------------------------------\u001b[0m",
      "\u001b[1;31mNameError\u001b[0m                                 Traceback (most recent call last)",
      "\u001b[1;32m<ipython-input-4-0cd539148c8b>\u001b[0m in \u001b[0;36m<module>\u001b[1;34m\u001b[0m\n\u001b[0;32m     50\u001b[0m         \u001b[1;32melse\u001b[0m\u001b[1;33m:\u001b[0m\u001b[1;33m\u001b[0m\u001b[1;33m\u001b[0m\u001b[0m\n\u001b[0;32m     51\u001b[0m             \u001b[0mres\u001b[0m\u001b[1;33m=\u001b[0m\u001b[1;36m0\u001b[0m\u001b[1;33m\u001b[0m\u001b[1;33m\u001b[0m\u001b[0m\n\u001b[1;32m---> 52\u001b[1;33m             \u001b[0mprint\u001b[0m\u001b[1;33m(\u001b[0m\u001b[1;34m\"Esperado: \"\u001b[0m\u001b[1;33m,\u001b[0m\u001b[0mr\u001b[0m\u001b[1;33m[\u001b[0m\u001b[0mi\u001b[0m\u001b[1;33m]\u001b[0m\u001b[1;33m)\u001b[0m\u001b[1;33m\u001b[0m\u001b[1;33m\u001b[0m\u001b[0m\n\u001b[0m\u001b[0;32m     53\u001b[0m             \u001b[0mprint\u001b[0m\u001b[1;33m(\u001b[0m\u001b[1;34m\"Obtenido: \"\u001b[0m\u001b[1;33m,\u001b[0m\u001b[0mres\u001b[0m\u001b[1;33m)\u001b[0m\u001b[1;33m\u001b[0m\u001b[1;33m\u001b[0m\u001b[0m\n\u001b[0;32m     54\u001b[0m         \u001b[1;32mif\u001b[0m\u001b[1;33m(\u001b[0m\u001b[0mres\u001b[0m\u001b[1;33m!=\u001b[0m\u001b[0mr\u001b[0m\u001b[1;33m[\u001b[0m\u001b[0mi\u001b[0m\u001b[1;33m]\u001b[0m\u001b[1;33m)\u001b[0m\u001b[1;33m:\u001b[0m\u001b[1;33m\u001b[0m\u001b[1;33m\u001b[0m\u001b[0m\n",
      "\u001b[1;31mNameError\u001b[0m: name 'r' is not defined"
     ]
    }
   ],
   "source": [
    "import matplotlib.pyplot as plt\n",
    "import numpy as np \n",
    "w=np.array([0.11848282362811335,0.4527569581471502])\n",
    "teta=0.040893273201404234\n",
    "alpha=0.7\n",
    "X=np.array([[-3.91294592, 0.01533953], [-2.3532511, -0.32128855], [-0.88738799, -0.2598815], [2.32858428, 2.08764605]])\n",
    "\n",
    "r2=[1, 1, 0, 0]\n",
    "lon=len(r2) \n",
    "res=0\n",
    "con=True\n",
    "\n",
    "\n",
    "xp1=[-3.91294592, 0.01533953]\n",
    "xp2= [-2.3532511, -0.32128855]\n",
    "xp3=[-0.88738799, -0.2598815]\n",
    "xp4=[2.32858428, 2.08764605]\n",
    "\n",
    "funx1= lambda: -teta/w[0]\n",
    "funx2= lambda:-teta/w[1]\n",
    "x=np.array([funx1(),0])\n",
    "y=np.array([0,funx2()])\n",
    "errores=[]\n",
    "m=(y[1]-y[0])/(x[1]-x[0])\n",
    "fu=lambda num: m*(num-x[0])\n",
    "li=np.array(range(-10,10))\n",
    "cont=1\n",
    "while(con):\n",
    "    print(\"--------------------------------------------\")\n",
    "    print(\"PASO: \",cont)\n",
    "    for i in range(lon):\n",
    "        print(\"X1: \", x)\n",
    "        print(\"X2: \", y)\n",
    "        plt.title('Gráfica: '+str(i))\n",
    "        plt.axhline(y=0,color=\"red\")\n",
    "        plt.axvline(x=0,color=\"red\")\n",
    "        plt.plot(xp1,xp2,\"o\",color=\"red\")\n",
    "        plt.plot(xp3,xp4,\"x\",color=\"blue\")\n",
    "        plt.plot(li,fu(li))\n",
    "        plt.grid(True)\n",
    "        plt.show()\n",
    "        print(\"Patrón \",(i+1) , \" = (\", X[i][0],\",\",X[i][1],\")\")\n",
    "        val=X[i][0]*w[0]+X[i][1]*w[1]+teta\n",
    "        print(val)\n",
    "        if val >=0:\n",
    "            res=1\n",
    "            print(\"Esperado: \",r[i])\n",
    "            print(\"Obtenido: \",res)\n",
    "        else:\n",
    "            res=0\n",
    "            print(\"Esperado: \",r[i])\n",
    "            print(\"Obtenido: \",res)\n",
    "        if(res!=r[i]):\n",
    "            er=r[i]-res\n",
    "            print(\"Error: \", er)\n",
    "            errores.append(er)\n",
    "            aux=np.array([X[i][0],X[i][1]])\n",
    "            print(\"Peso Anterior: \",w)\n",
    "            w=w+(alpha*er*aux)\n",
    "            print(\"Nuevo peso: \",w)\n",
    "            print(\"Viejo Bias: \",teta)\n",
    "            teta=teta+alpha*er\n",
    "            print(\"Bías: \",teta)\n",
    "            x=np.array([funx1(),0])\n",
    "            y=np.array([0,funx2()])\n",
    "            m=(y[1]-y[0])/(x[1]-x[0])\n",
    "        else:\n",
    "            errores.append(0)\n",
    "    print(\"FIN PASO: \", cont)\n",
    "    print(\"--------------------------------------------\")\n",
    "    cont+=1\n",
    "    if errores == r2:\n",
    "        con=False\n",
    "        print(\"Fin\")\n",
    "        print(\"Ecuación Solución: y=\",m,\"x \",y[1] )\n",
    "    else:\n",
    "        errores=[]"
   ]
  },
  {
   "cell_type": "code",
   "execution_count": null,
   "metadata": {},
   "outputs": [],
   "source": []
  }
 ],
 "metadata": {
  "kernelspec": {
   "display_name": "Python 3",
   "language": "python",
   "name": "python3"
  },
  "language_info": {
   "codemirror_mode": {
    "name": "ipython",
    "version": 3
   },
   "file_extension": ".py",
   "mimetype": "text/x-python",
   "name": "python",
   "nbconvert_exporter": "python",
   "pygments_lexer": "ipython3",
   "version": "3.7.6"
  }
 },
 "nbformat": 4,
 "nbformat_minor": 4
}
